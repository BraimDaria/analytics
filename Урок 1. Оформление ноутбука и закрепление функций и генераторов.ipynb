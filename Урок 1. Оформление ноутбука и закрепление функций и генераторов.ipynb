{
 "cells": [
  {
   "cell_type": "markdown",
   "id": "8f97be34",
   "metadata": {},
   "source": [
    "# Задание №2"
   ]
  },
  {
   "cell_type": "markdown",
   "id": "0cddf76f",
   "metadata": {},
   "source": [
    "*На складе лежат разные фрукты в разном количестве.\n",
    "Нужно написать функцию, которая на вход принимает любое количество названий фруктов и их количество, а возвращает общее количество фруктов на складе"
   ]
  },
  {
   "cell_type": "code",
   "execution_count": 8,
   "id": "d885ab08",
   "metadata": {},
   "outputs": [
    {
     "name": "stdout",
     "output_type": "stream",
     "text": [
      "Общее количество фруктов на складе:  90\n"
     ]
    }
   ],
   "source": [
    "all_fruits = '''\n",
    "манго - 5\n",
    "бананы - 20\n",
    "киви - 50\n",
    "помело - 15\n",
    "'''\n",
    "  \n",
    "import re\n",
    " \n",
    "def Total_fruits(a):\n",
    "    return sum([int(i.group()) for i in re.finditer(r'\\d+', a)])\n",
    " \n",
    "print('Общее количество фруктов на складе: ', Total_fruits(all_fruits))"
   ]
  },
  {
   "cell_type": "markdown",
   "id": "cd85fbb1",
   "metadata": {},
   "source": [
    "# Задание №3"
   ]
  },
  {
   "cell_type": "markdown",
   "id": "6a73ed88",
   "metadata": {},
   "source": [
    "*Дан список с затратами на рекламу. Но в данных есть ошибки, некоторые затраты имеют отрицательную величину. Удалите такие значения из списка и посчитайте суммарные затраты [100, 125, -90, 345, 655, -1, 0, 200]\n",
    "Используйте list comprehensions"
   ]
  },
  {
   "cell_type": "markdown",
   "id": "20d9f132",
   "metadata": {},
   "source": [
    "удаляем отрицательные значения и 0"
   ]
  },
  {
   "cell_type": "code",
   "execution_count": 12,
   "id": "03585e4e",
   "metadata": {},
   "outputs": [
    {
     "data": {
      "text/plain": [
       "[100, 125, 345, 655, 200]"
      ]
     },
     "execution_count": 12,
     "metadata": {},
     "output_type": "execute_result"
    }
   ],
   "source": [
    "expenses_list = [100, 125, -90, 345, 655, -1, 0, 200]\n",
    "correct_list = [a for a in expenses_list if a > 0]\n",
    "correct_list"
   ]
  },
  {
   "cell_type": "markdown",
   "id": "6c8f6a53",
   "metadata": {},
   "source": [
    "считаем суммарные затраты"
   ]
  },
  {
   "cell_type": "code",
   "execution_count": 11,
   "id": "715eaae4",
   "metadata": {},
   "outputs": [
    {
     "name": "stdout",
     "output_type": "stream",
     "text": [
      "1425\n"
     ]
    }
   ],
   "source": [
    "print(sum(correct_list))"
   ]
  }
 ],
 "metadata": {
  "kernelspec": {
   "display_name": "Python 3 (ipykernel)",
   "language": "python",
   "name": "python3"
  },
  "language_info": {
   "codemirror_mode": {
    "name": "ipython",
    "version": 3
   },
   "file_extension": ".py",
   "mimetype": "text/x-python",
   "name": "python",
   "nbconvert_exporter": "python",
   "pygments_lexer": "ipython3",
   "version": "3.11.4"
  }
 },
 "nbformat": 4,
 "nbformat_minor": 5
}
